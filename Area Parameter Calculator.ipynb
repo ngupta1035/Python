{
 "cells": [
  {
   "cell_type": "code",
   "execution_count": null,
   "id": "fee0848f-44b5-4005-b372-3248d0a335ec",
   "metadata": {},
   "outputs": [],
   "source": []
  }
 ],
 "metadata": {
  "kernelspec": {
   "display_name": "",
   "name": ""
  },
  "language_info": {
   "name": ""
  }
 },
 "nbformat": 4,
 "nbformat_minor": 5
}
