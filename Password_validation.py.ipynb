{
 "cells": [
  {
   "cell_type": "code",
   "execution_count": null,
   "metadata": {},
   "outputs": [],
   "source": [
    "def password_check(passwd):\n",
    "    SpecialSym = ['$', '@', '#', '%', '_']\n",
    "    val = True\n",
    "\n",
    "    if len(passwd) < 6:\n",
    "        print('length should have at least 6 char.')\n",
    "        val = False\n",
    "          \n",
    "    if len(passwd) > 20:\n",
    "        print('length should not be greater than 20 char.')\n",
    "        val = False\n",
    "          \n",
    "    if not any(char.isdigit() for char in passwd):\n",
    "        print('Password should have at least one numerical')\n",
    "        val = False\n",
    "        \n",
    "    if not any(char.isupper() for char in passwd):\n",
    "        print('Password should have at least one uppercase letter')\n",
    "        val = False\n",
    "          \n",
    "    if not any(char.islower() for char in passwd):\n",
    "        print('Password should have at least one lowercase letter')\n",
    "        val = False\n",
    "          \n",
    "    if not any(char in SpecialSym for char in passwd):\n",
    "        print('Password should have at least one of the symbols $ @ % # _')\n",
    "        val = False\n",
    "    \n",
    "    if val:\n",
    "        return val\n",
    "  \n",
    "# Main method\n",
    "def main():\n",
    "    passwd = input(\"Enter password \")\n",
    "    if (password_check(passwd)):\n",
    "        print(\"Password is valid\")\n",
    "    else:\n",
    "        print(\"Invalid Password !!\")\n",
    "          \n",
    "# Driver Code\n",
    "main()"
   ]
  }
 ],
 "metadata": {
  "kernelspec": {
   "display_name": "Python 3",
   "language": "python",
   "name": "python3"
  },
  "language_info": {
   "codemirror_mode": {
    "name": "ipython",
    "version": 3
   },
   "file_extension": ".py",
   "mimetype": "text/x-python",
   "name": "python",
   "nbconvert_exporter": "python",
   "pygments_lexer": "ipython3",
   "version": "3.8.3"
  }
 },
 "nbformat": 4,
 "nbformat_minor": 4
}
